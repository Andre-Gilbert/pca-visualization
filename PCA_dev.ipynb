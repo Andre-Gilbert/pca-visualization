{
 "cells": [
  {
   "cell_type": "markdown",
   "metadata": {},
   "source": [
    "# Development of PCA code\n",
    "This notebook serves as debudding and development environment for the PCA calculation itself."
   ]
  },
  {
   "cell_type": "code",
   "execution_count": 1,
   "metadata": {},
   "outputs": [],
   "source": [
    "# Imports\n",
    "import pandas as pd\n",
    "import numpy as np"
   ]
  },
  {
   "cell_type": "code",
   "execution_count": 5,
   "metadata": {},
   "outputs": [
    {
     "data": {
      "text/plain": [
       "array([[1.566945  , 2.35562819, 1.5278859 ],\n",
       "       [2.15638114, 2.53802701, 0.91921348],\n",
       "       [3.95435659, 3.20565333, 0.7149398 ],\n",
       "       [2.46249943, 2.65987346, 1.42995661],\n",
       "       [3.51021533, 3.5427914 , 0.92307503],\n",
       "       [0.63012198, 0.90930669, 1.19497778],\n",
       "       [2.71514147, 2.65903694, 1.4500855 ],\n",
       "       [1.94354145, 2.35981616, 1.18227095],\n",
       "       [3.9452154 , 3.58172707, 1.26396111]])"
      ]
     },
     "execution_count": 5,
     "metadata": {},
     "output_type": "execute_result"
    }
   ],
   "source": [
    "# Read in data\n",
    "data = pd.read_csv(\"src/assets/data_points.csv\")\n",
    "points_data = data.values  # Assuming columns are x, y, z\n",
    "data.values"
   ]
  },
  {
   "cell_type": "code",
   "execution_count": 6,
   "metadata": {},
   "outputs": [],
   "source": [
    "# Center the data\n",
    "points_meaned = points_data - np.mean(points_data, axis=0)"
   ]
  },
  {
   "cell_type": "code",
   "execution_count": 28,
   "metadata": {},
   "outputs": [
    {
     "data": {
      "text/plain": [
       "array([[-0.81568263, -0.28542268, -0.50318559],\n",
       "       [-0.57309181,  0.51733715,  0.63555334],\n",
       "       [ 0.07891526,  0.80678136, -0.58555633]])"
      ]
     },
     "execution_count": 28,
     "metadata": {},
     "output_type": "execute_result"
    }
   ],
   "source": [
    "# Get transformation matrix\n",
    "cov_matrix = np.cov(points_meaned, rowvar=False)\n",
    "eigen_values, eigen_vectors = np.linalg.eigh(cov_matrix)\n",
    "\n",
    "sorted_indices = np.argsort(eigen_values)[::-1]  # Get indices that would sort eigen_values in descending order\n",
    "eigen_values_sorted = eigen_values[sorted_indices]\n",
    "eigen_vectors_sorted = eigen_vectors[:, sorted_indices]\n",
    "eigen_vectors_sorted_1 = eigen_vectors_sorted.copy()\n",
    "eigen_vectors_sorted_1"
   ]
  },
  {
   "cell_type": "code",
   "execution_count": 26,
   "metadata": {},
   "outputs": [
    {
     "data": {
      "text/plain": [
       "array([[-0.81568263, -0.28542268, -0.50318559],\n",
       "       [-0.57309181,  0.51733715,  0.63555334],\n",
       "       [ 0.07891526,  0.80678136, -0.58555633]])"
      ]
     },
     "execution_count": 26,
     "metadata": {},
     "output_type": "execute_result"
    }
   ],
   "source": [
    "# Different approach (using the calculation from the video script)\n",
    "num_features = data.shape[1]\n",
    "cov_matrix = (1/num_features) * (points_meaned.T @ points_meaned)\n",
    "eigen_values, eigen_vectors = np.linalg.eigh(cov_matrix)\n",
    "\n",
    "sorted_indices = np.argsort(eigen_values)[::-1]  # Get indices that would sort eigen_values in descending order\n",
    "eigen_values_sorted = eigen_values[sorted_indices]\n",
    "eigen_vectors_sorted = eigen_vectors[:, sorted_indices]\n",
    "eigen_vectors_sorted"
   ]
  },
  {
   "cell_type": "code",
   "execution_count": 30,
   "metadata": {},
   "outputs": [
    {
     "data": {
      "text/plain": [
       "array([[ True,  True,  True],\n",
       "       [ True,  True,  True],\n",
       "       [ True,  True,  True]])"
      ]
     },
     "execution_count": 30,
     "metadata": {},
     "output_type": "execute_result"
    }
   ],
   "source": [
    "# We see that both approaches to calculating the covariance matrix yield the same eigenbasis\n",
    "eigen_vectors_sorted == eigen_vectors_sorted_1"
   ]
  },
  {
   "cell_type": "markdown",
   "metadata": {},
   "source": [
    "## Transform the data"
   ]
  },
  {
   "cell_type": "code",
   "execution_count": 34,
   "metadata": {},
   "outputs": [
    {
     "data": {
      "text/plain": [
       "array([[ 0.98976359,  0.41029925,  0.10200294],\n",
       "       [ 0.35640595, -0.15464308,  0.27774334],\n",
       "       [-1.50890288, -0.48724235, -0.08304612],\n",
       "       [ 0.07718681,  0.23307756, -0.09791994],\n",
       "       [-1.32341059, -0.01814069,  0.23283369],\n",
       "       [ 2.55651733, -0.33913013, -0.15087923],\n",
       "       [-0.12682104,  0.17677464, -0.23736401],\n",
       "       [ 0.65290602,  0.02614097,  0.11754373],\n",
       "       [-1.67364519,  0.15286383, -0.16091439]])"
      ]
     },
     "execution_count": 34,
     "metadata": {},
     "output_type": "execute_result"
    }
   ],
   "source": [
    "transformed = (eigen_vectors_sorted.T @ points_meaned.T).T\n",
    "transformed"
   ]
  },
  {
   "cell_type": "code",
   "execution_count": null,
   "metadata": {},
   "outputs": [],
   "source": []
  }
 ],
 "metadata": {
  "kernelspec": {
   "display_name": "Algorithm Visualization",
   "language": "python",
   "name": "python3"
  },
  "language_info": {
   "codemirror_mode": {
    "name": "ipython",
    "version": 3
   },
   "file_extension": ".py",
   "mimetype": "text/x-python",
   "name": "python",
   "nbconvert_exporter": "python",
   "pygments_lexer": "ipython3",
   "version": "3.9.13"
  }
 },
 "nbformat": 4,
 "nbformat_minor": 2
}
