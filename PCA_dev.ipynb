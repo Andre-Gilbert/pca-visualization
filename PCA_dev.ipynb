{
 "cells": [
  {
   "cell_type": "markdown",
   "metadata": {},
   "source": [
    "# Development of PCA code\n",
    "This notebook serves as debudding and development environment for the PCA calculation itself."
   ]
  },
  {
   "cell_type": "code",
   "execution_count": 1,
   "metadata": {},
   "outputs": [],
   "source": [
    "# Imports\n",
    "import pandas as pd\n",
    "import numpy as np"
   ]
  },
  {
   "cell_type": "code",
   "execution_count": 11,
   "metadata": {},
   "outputs": [
    {
     "data": {
      "text/plain": [
       "array([[2.45494606, 2.89933824, 1.29442135],\n",
       "       [3.49719522, 4.44441384, 1.92721365],\n",
       "       [2.3919344 , 2.77889148, 1.10330262],\n",
       "       [2.22059348, 3.34635273, 1.62716749],\n",
       "       [2.66010706, 3.14609871, 1.40782506],\n",
       "       [4.89766048, 5.3609849 , 1.913746  ],\n",
       "       [4.32666604, 4.88514614, 1.16271136],\n",
       "       [3.70242423, 3.37440723, 1.18353053],\n",
       "       [3.77331247, 4.90375218, 1.56929208],\n",
       "       [3.43541011, 3.46200761, 1.20855207],\n",
       "       [3.52410818, 4.30531496, 1.28669543],\n",
       "       [2.62139166, 3.47861415, 1.41458629],\n",
       "       [3.00132973, 3.09701206, 0.79889223],\n",
       "       [3.60184319, 3.22908323, 1.23208424],\n",
       "       [1.83206786, 2.8459961 , 1.72686057],\n",
       "       [0.97061329, 1.93001227, 1.2399588 ],\n",
       "       [3.69078753, 4.42471474, 1.25109184],\n",
       "       [3.15524379, 3.10066462, 1.17257825],\n",
       "       [2.23288487, 3.84849092, 1.15501933]])"
      ]
     },
     "execution_count": 11,
     "metadata": {},
     "output_type": "execute_result"
    }
   ],
   "source": [
    "# Read in data\n",
    "data = pd.read_csv(\"src/assets/data_points.csv\")\n",
    "points_data = data.values  # Assuming columns are x, y, z\n",
    "data.values"
   ]
  },
  {
   "cell_type": "code",
   "execution_count": 12,
   "metadata": {},
   "outputs": [],
   "source": [
    "# Center the data\n",
    "points_meaned = points_data - np.mean(points_data, axis=0)"
   ]
  },
  {
   "cell_type": "code",
   "execution_count": 13,
   "metadata": {},
   "outputs": [
    {
     "data": {
      "text/plain": [
       "array([[-0.72730694, -0.62839167,  0.27595021],\n",
       "       [-0.68267009,  0.62102398, -0.3850854 ],\n",
       "       [-0.07061276,  0.46845824,  0.88065925]])"
      ]
     },
     "execution_count": 13,
     "metadata": {},
     "output_type": "execute_result"
    }
   ],
   "source": [
    "# Get transformation matrix\n",
    "cov_matrix = np.cov(points_meaned, rowvar=False)\n",
    "eigen_values, eigen_vectors = np.linalg.eigh(cov_matrix)\n",
    "\n",
    "sorted_indices = np.argsort(eigen_values)[::-1]  # Get indices that would sort eigen_values in descending order\n",
    "eigen_values_sorted = eigen_values[sorted_indices]\n",
    "eigen_vectors_sorted = eigen_vectors[:, sorted_indices]\n",
    "eigen_vectors_sorted_1 = eigen_vectors_sorted.copy()\n",
    "eigen_vectors_sorted_1"
   ]
  },
  {
   "cell_type": "code",
   "execution_count": 14,
   "metadata": {},
   "outputs": [
    {
     "data": {
      "text/plain": [
       "array([[-0.72730694, -0.62839167,  0.27595021],\n",
       "       [-0.68267009,  0.62102398, -0.3850854 ],\n",
       "       [-0.07061276,  0.46845824,  0.88065925]])"
      ]
     },
     "execution_count": 14,
     "metadata": {},
     "output_type": "execute_result"
    }
   ],
   "source": [
    "# Different approach (using the calculation from the video script)\n",
    "num_features = data.shape[1]\n",
    "cov_matrix = (1/num_features) * (points_meaned.T @ points_meaned)\n",
    "eigen_values, eigen_vectors = np.linalg.eigh(cov_matrix)\n",
    "\n",
    "sorted_indices = np.argsort(eigen_values)[::-1]  # Get indices that would sort eigen_values in descending order\n",
    "eigen_values_sorted = eigen_values[sorted_indices]\n",
    "eigen_vectors_sorted = eigen_vectors[:, sorted_indices]\n",
    "eigen_vectors_sorted"
   ]
  },
  {
   "cell_type": "code",
   "execution_count": 15,
   "metadata": {},
   "outputs": [
    {
     "data": {
      "text/plain": [
       "array([[False, False, False],\n",
       "       [False, False, False],\n",
       "       [False, False, False]])"
      ]
     },
     "execution_count": 15,
     "metadata": {},
     "output_type": "execute_result"
    }
   ],
   "source": [
    "# We see that both approaches to calculating the covariance matrix yield the same eigenbasis\n",
    "eigen_vectors_sorted == eigen_vectors_sorted_1"
   ]
  },
  {
   "cell_type": "code",
   "execution_count": 16,
   "metadata": {},
   "outputs": [
    {
     "data": {
      "text/plain": [
       "array([9.04355235, 0.97861613, 0.30326711])"
      ]
     },
     "execution_count": 16,
     "metadata": {},
     "output_type": "execute_result"
    }
   ],
   "source": [
    "eigen_values_sorted"
   ]
  },
  {
   "cell_type": "markdown",
   "metadata": {},
   "source": [
    "## Transform the data"
   ]
  },
  {
   "cell_type": "code",
   "execution_count": 17,
   "metadata": {},
   "outputs": [
    {
     "data": {
      "text/plain": [
       "array([[ 0.93325256, -0.1016041 ,  0.06424111],\n",
       "       [-0.92424259,  0.49942098,  0.31413832],\n",
       "       [ 1.07480221, -0.22633957, -0.07507516],\n",
       "       [ 0.77503928,  0.4791455 ,  0.12046868],\n",
       "       [ 0.60757381, -0.02415649,  0.1257015 ],\n",
       "       [-2.56757536,  0.18228385,  0.33577844],\n",
       "       [-1.77441362, -0.10624365, -0.29995463],\n",
       "       [-0.29053205, -0.64242747,  0.12788381],\n",
       "       [-1.4133673 ,  0.44350001, -0.10175851],\n",
       "       [-0.15789983, -0.40851454,  0.04250303],\n",
       "       [-0.80362918,  0.09606932, -0.18894839],\n",
       "       [ 0.40825601,  0.20983937, -0.00707452],\n",
       "       [ 0.4359086 , -0.55432156, -0.29749781],\n",
       "       [-0.12159893, -0.64672749,  0.19884988],\n",
       "       [ 1.39215556,  0.45926034,  0.29373062],\n",
       "       [ 2.67839369,  0.20365015, -0.02005049],\n",
       "       [-1.00385281,  0.04880074, -0.22028694],\n",
       "       [ 0.29508535, -0.47371525,  0.07265831],\n",
       "       [ 0.45664462,  0.56207985, -0.48530724]])"
      ]
     },
     "execution_count": 17,
     "metadata": {},
     "output_type": "execute_result"
    }
   ],
   "source": [
    "transformed = (eigen_vectors_sorted.T @ points_meaned.T).T\n",
    "transformed"
   ]
  },
  {
   "cell_type": "markdown",
   "metadata": {},
   "source": [
    "### Conclusion\n",
    "As can be seen in the cell below, the covariance between the features is approximately zero. The neglectable values outside the diagonal are caused by numerical reasons. "
   ]
  },
  {
   "cell_type": "code",
   "execution_count": 20,
   "metadata": {},
   "outputs": [
    {
     "data": {
      "text/plain": [
       "array([[ 1.50725873e+00, -5.36896992e-16, -6.98500729e-17],\n",
       "       [-5.36896992e-16,  1.63102688e-01,  6.61138940e-17],\n",
       "       [-6.98500729e-17,  6.61138940e-17,  5.05445175e-02]])"
      ]
     },
     "execution_count": 20,
     "metadata": {},
     "output_type": "execute_result"
    }
   ],
   "source": [
    "# Let's check if the covariance matrix is actually zero outside the diagonal.\n",
    "cov_matrix_transformed = np.cov(transformed, rowvar=False)\n",
    "cov_matrix_transformed"
   ]
  }
 ],
 "metadata": {
  "kernelspec": {
   "display_name": "Algorithm Visualization",
   "language": "python",
   "name": "python3"
  },
  "language_info": {
   "codemirror_mode": {
    "name": "ipython",
    "version": 3
   },
   "file_extension": ".py",
   "mimetype": "text/x-python",
   "name": "python",
   "nbconvert_exporter": "python",
   "pygments_lexer": "ipython3",
   "version": "3.9.13"
  }
 },
 "nbformat": 4,
 "nbformat_minor": 2
}
