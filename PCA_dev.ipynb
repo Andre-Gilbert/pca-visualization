{
 "cells": [
  {
   "cell_type": "markdown",
   "metadata": {},
   "source": [
    "# Development of PCA code\n",
    "This notebook serves as debudding and development environment for the PCA calculation itself."
   ]
  },
  {
   "cell_type": "code",
   "execution_count": 1,
   "metadata": {},
   "outputs": [],
   "source": [
    "# Imports\n",
    "import pandas as pd\n",
    "import numpy as np"
   ]
  },
  {
   "cell_type": "code",
   "execution_count": 5,
   "metadata": {},
   "outputs": [
    {
     "data": {
      "text/plain": [
       "array([[1.566945  , 2.35562819, 1.5278859 ],\n",
       "       [2.15638114, 2.53802701, 0.91921348],\n",
       "       [3.95435659, 3.20565333, 0.7149398 ],\n",
       "       [2.46249943, 2.65987346, 1.42995661],\n",
       "       [3.51021533, 3.5427914 , 0.92307503],\n",
       "       [0.63012198, 0.90930669, 1.19497778],\n",
       "       [2.71514147, 2.65903694, 1.4500855 ],\n",
       "       [1.94354145, 2.35981616, 1.18227095],\n",
       "       [3.9452154 , 3.58172707, 1.26396111]])"
      ]
     },
     "execution_count": 5,
     "metadata": {},
     "output_type": "execute_result"
    }
   ],
   "source": [
    "# Read in data\n",
    "data = pd.read_csv(\"src/assets/data_points.csv\")\n",
    "points_data = data.values  # Assuming columns are x, y, z\n",
    "data.values"
   ]
  },
  {
   "cell_type": "code",
   "execution_count": 6,
   "metadata": {},
   "outputs": [],
   "source": [
    "# Center the data\n",
    "points_meaned = points_data - np.mean(points_data, axis=0)"
   ]
  },
  {
   "cell_type": "code",
   "execution_count": 28,
   "metadata": {},
   "outputs": [
    {
     "data": {
      "text/plain": [
       "array([[-0.81568263, -0.28542268, -0.50318559],\n",
       "       [-0.57309181,  0.51733715,  0.63555334],\n",
       "       [ 0.07891526,  0.80678136, -0.58555633]])"
      ]
     },
     "execution_count": 28,
     "metadata": {},
     "output_type": "execute_result"
    }
   ],
   "source": [
    "# Get transformation matrix\n",
    "cov_matrix = np.cov(points_meaned, rowvar=False)\n",
    "eigen_values, eigen_vectors = np.linalg.eigh(cov_matrix)\n",
    "\n",
    "sorted_indices = np.argsort(eigen_values)[::-1]  # Get indices that would sort eigen_values in descending order\n",
    "eigen_values_sorted = eigen_values[sorted_indices]\n",
    "eigen_vectors_sorted = eigen_vectors[:, sorted_indices]\n",
    "eigen_vectors_sorted_1 = eigen_vectors_sorted.copy()\n",
    "eigen_vectors_sorted_1"
   ]
  },
  {
   "cell_type": "code",
   "execution_count": 26,
   "metadata": {},
   "outputs": [
    {
     "data": {
      "text/plain": [
       "array([[-0.81568263, -0.28542268, -0.50318559],\n",
       "       [-0.57309181,  0.51733715,  0.63555334],\n",
       "       [ 0.07891526,  0.80678136, -0.58555633]])"
      ]
     },
     "execution_count": 26,
     "metadata": {},
     "output_type": "execute_result"
    }
   ],
   "source": [
    "# Different approach (using the calculation from the video script)\n",
    "num_features = data.shape[1]\n",
    "cov_matrix = (1/num_features) * (points_meaned.T @ points_meaned)\n",
    "eigen_values, eigen_vectors = np.linalg.eigh(cov_matrix)\n",
    "\n",
    "sorted_indices = np.argsort(eigen_values)[::-1]  # Get indices that would sort eigen_values in descending order\n",
    "eigen_values_sorted = eigen_values[sorted_indices]\n",
    "eigen_vectors_sorted = eigen_vectors[:, sorted_indices]\n",
    "eigen_vectors_sorted"
   ]
  },
  {
   "cell_type": "code",
   "execution_count": 30,
   "metadata": {},
   "outputs": [
    {
     "data": {
      "text/plain": [
       "array([[ True,  True,  True],\n",
       "       [ True,  True,  True],\n",
       "       [ True,  True,  True]])"
      ]
     },
     "execution_count": 30,
     "metadata": {},
     "output_type": "execute_result"
    }
   ],
   "source": [
    "# We see that both approaches to calculating the covariance matrix yield the same eigenbasis\n",
    "eigen_vectors_sorted == eigen_vectors_sorted_1"
   ]
  },
  {
   "cell_type": "markdown",
   "metadata": {},
   "source": [
    "## Transform the data"
   ]
  },
  {
   "cell_type": "code",
   "execution_count": 32,
   "metadata": {},
   "outputs": [
    {
     "ename": "ValueError",
     "evalue": "matmul: Input operand 1 has a mismatch in its core dimension 0, with gufunc signature (n?,k),(k,m?)->(n?,m?) (size 9 is different from 3)",
     "output_type": "error",
     "traceback": [
      "\u001b[1;31m---------------------------------------------------------------------------\u001b[0m",
      "\u001b[1;31mValueError\u001b[0m                                Traceback (most recent call last)",
      "Cell \u001b[1;32mIn[32], line 1\u001b[0m\n\u001b[1;32m----> 1\u001b[0m transformed \u001b[38;5;241m=\u001b[39m \u001b[43meigen_vectors_sorted\u001b[49m\u001b[43m \u001b[49m\u001b[38;5;241;43m@\u001b[39;49m\u001b[43m \u001b[49m\u001b[43mpoints_meaned\u001b[49m\n\u001b[0;32m      2\u001b[0m transformed\n",
      "\u001b[1;31mValueError\u001b[0m: matmul: Input operand 1 has a mismatch in its core dimension 0, with gufunc signature (n?,k),(k,m?)->(n?,m?) (size 9 is different from 3)"
     ]
    }
   ],
   "source": [
    "transformed = (eigen_vectors_sorted.T @ points_meaned.T).T\n",
    "transformed"
   ]
  }
 ],
 "metadata": {
  "kernelspec": {
   "display_name": "Algorithm Visualization",
   "language": "python",
   "name": "python3"
  },
  "language_info": {
   "codemirror_mode": {
    "name": "ipython",
    "version": 3
   },
   "file_extension": ".py",
   "mimetype": "text/x-python",
   "name": "python",
   "nbconvert_exporter": "python",
   "pygments_lexer": "ipython3",
   "version": "3.9.13"
  }
 },
 "nbformat": 4,
 "nbformat_minor": 2
}
